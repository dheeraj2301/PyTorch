{
 "cells": [
  {
   "cell_type": "code",
   "execution_count": 4,
   "metadata": {},
   "outputs": [],
   "source": [
    "import numpy as np\n",
    "import matplotlib.pyplot as plt\n",
    "import torch\n",
    "import torchvision\n",
    "import torch.nn as nn\n",
    "import torch.nn.functional as F\n",
    "import torchvision.transforms as transforms\n",
    "torch.use_deterministic_algorithms(True)"
   ]
  },
  {
   "cell_type": "code",
   "execution_count": 12,
   "metadata": {},
   "outputs": [
    {
     "name": "stdout",
     "output_type": "stream",
     "text": [
      "LeNet(\n",
      "  (cn1): Conv2d(3, 6, kernel_size=(5, 5), stride=(1, 1))\n",
      "  (cn2): Conv2d(6, 16, kernel_size=(5, 5), stride=(1, 1))\n",
      "  (fc1): Linear(in_features=400, out_features=120, bias=True)\n",
      "  (fc2): Linear(in_features=120, out_features=84, bias=True)\n",
      "  (fc3): Linear(in_features=84, out_features=10, bias=True)\n",
      ")\n"
     ]
    }
   ],
   "source": [
    "class LeNet(nn.Module):\n",
    "    def __init__(self):\n",
    "        super(LeNet,self).__init__()\n",
    "        # 3 input image channel, 6 output feature maps and 5x5 conv kernel\n",
    "        self.cn1 = nn.Conv2d(3, 6, 5)\n",
    "        # 6 input image channel, 16 output feature maps and 5x5 conv kernel\n",
    "        self.cn2 = nn.Conv2d(6, 16, 5)\n",
    "        # fully connected layers of size 120, 84 and 10\n",
    "        self.fc1 = nn.Linear(16 * 5 * 5, 120)\n",
    "        self.fc2 = nn.Linear(120, 84)\n",
    "        self.fc3 = nn.Linear(84, 10)\n",
    "\n",
    "    def forward(self, x):\n",
    "        # Convolution with 5x5 kernel\n",
    "        x = F.relu(self.cn1(x))\n",
    "        # Max pooling over a (2, 2) window\n",
    "        x = F.max_pool2d(x, (2, 2))\n",
    "        # Convolution with 5x5 kernel\n",
    "        x = F.relu(self.cn2(x))\n",
    "        # Max pooling over a (2, 2) window\n",
    "        x = F.max_pool2d(x, (2, 2))\n",
    "        # Flatten spatial and depth dimensions into a single vector\n",
    "        x = x.view(-1, self.flattened_features(x))\n",
    "        # Fully connected operations\n",
    "        x = F.relu(self.fc1(x))\n",
    "        x = F.relu(self.fc2(x))\n",
    "        x = self.fc3(x)\n",
    "        return x\n",
    "    \n",
    "    def flattened_features(self, x):\n",
    "        # all except the first (batch) dimension\n",
    "        size = x.size()[1:]\n",
    "        num_feats = 1\n",
    "        for s in size:\n",
    "            num_feats *= s\n",
    "        return num_feats\n",
    "    \n",
    "lenet = LeNet()\n",
    "print(lenet)"
   ]
  },
  {
   "cell_type": "code",
   "execution_count": 10,
   "metadata": {},
   "outputs": [],
   "source": [
    "def train(net, trainloader, optim, epoch):\n",
    "    loss_total = 0.0\n",
    "    for i, data in enumerate(trainloader):\n",
    "        ip, ground_truth = data\n",
    "        optim.zero_grad()\n",
    "\n",
    "        op = net(ip)\n",
    "        loss = nn.CrossEntropyLoss()(op, ground_truth)\n",
    "        loss.backward()\n",
    "        optim.step()\n",
    "        loss_total += loss\n",
    "\n",
    "        if (i+1) % 1000 == 0:\n",
    "            print('[Epoch number : %d, Mini-batches: %5d] loss: %.3f' %\n",
    "                  (epoch + 1, i + 1, loss_total / 200))\n",
    "            loss_total = 0.0\n",
    "\n"
   ]
  },
  {
   "cell_type": "code",
   "execution_count": 2,
   "metadata": {},
   "outputs": [],
   "source": [
    "def test(net, testloader):\n",
    "    success = 0\n",
    "    counter = 0\n",
    "\n",
    "    with torch.no_grad():\n",
    "        for data in testloader:\n",
    "            im, ground_truth = data\n",
    "            op = net(im)\n",
    "            _, pred = torch.max(op.data, 1)\n",
    "            counter += ground_truth.size(0)\n",
    "            success += (pred == ground_truth).sum().item()\n",
    "    print('LeNet accuracy on 10000 images from test dataset: %d %%'\\\n",
    "        % (100 * success / counter))\n",
    "\n"
   ]
  },
  {
   "cell_type": "code",
   "execution_count": 5,
   "metadata": {},
   "outputs": [
    {
     "name": "stdout",
     "output_type": "stream",
     "text": [
      "Downloading https://www.cs.toronto.edu/~kriz/cifar-10-python.tar.gz to ./data\\cifar-10-python.tar.gz\n"
     ]
    },
    {
     "name": "stderr",
     "output_type": "stream",
     "text": [
      "100%|██████████| 170498071/170498071 [00:18<00:00, 9254303.26it/s] \n"
     ]
    },
    {
     "name": "stdout",
     "output_type": "stream",
     "text": [
      "Extracting ./data\\cifar-10-python.tar.gz to ./data\n",
      "Files already downloaded and verified\n"
     ]
    }
   ],
   "source": [
    "train_transform = transforms.Compose(\n",
    "    [transforms.RandomHorizontalFlip(),\n",
    "     transforms.RandomCrop(32, 4),\n",
    "     transforms.ToTensor(),\n",
    "     transforms.Normalize((0.5,0.5,0.5),\n",
    "                          (0.5,0.5,0.5))\n",
    "    ])\n",
    "trainset = torchvision.datasets.CIFAR10(root='./data', train=True, download=True, transform=train_transform)\n",
    "trainloader = torch.utils.data.DataLoader(trainset, batch_size=10000, shuffle=False )\n",
    "\n",
    "test_transform = transforms.Compose([transforms.ToTensor(), transforms.Normalize((0.5, 0.5, 0.5), (0.5, 0.5, 0.5))])\n",
    "\n",
    "testset = torchvision.datasets.CIFAR10(root='./data', train=False, download=True, transform=test_transform)\n",
    "testloader = torch.utils.data.DataLoader(testset, batch_size=10000, shuffle=False)\n",
    "\n",
    "classes = ('plane', 'car', 'bird', 'cat', 'deer', 'dog', 'frog', 'horse', 'ship', 'truck')\n"
   ]
  },
  {
   "cell_type": "code",
   "execution_count": 6,
   "metadata": {},
   "outputs": [
    {
     "data": {
      "image/png": "[encoded data removed]",
      "text/plain": [
       "<Figure size 640x480 with 1 Axes>"
      ]
     },
     "metadata": {},
     "output_type": "display_data"
    },
    {
     "name": "stdout",
     "output_type": "stream",
     "text": [
      "    frog  ||  truck  ||  truck  ||  deer\n"
     ]
    }
   ],
   "source": [
    "# define a function that displays an image\n",
    "def imageshow(image):\n",
    "    # un-normalize the image\n",
    "    image = image/2 + 0.5     \n",
    "    npimage = image.numpy()\n",
    "    plt.imshow(np.transpose(npimage, (1, 2, 0)))\n",
    "    plt.show()\n",
    "\n",
    "\n",
    "# sample images from training set\n",
    "dataiter = iter(trainloader)\n",
    "images, labels = next(dataiter)\n",
    "\n",
    "# display images in a grid\n",
    "num_images = 4\n",
    "imageshow(torchvision.utils.make_grid(images[:num_images]))\n",
    "# print labels\n",
    "print('    '+'  ||  '.join(classes[labels[j]] for j in range(num_images)))"
   ]
  },
  {
   "cell_type": "code",
   "execution_count": 13,
   "metadata": {},
   "outputs": [
    {
     "name": "stdout",
     "output_type": "stream",
     "text": [
      "\n",
      "LeNet accuracy on 10000 images from test dataset: 15 %\n",
      "\n",
      "\n",
      "LeNet accuracy on 10000 images from test dataset: 15 %\n",
      "\n",
      "\n",
      "LeNet accuracy on 10000 images from test dataset: 22 %\n",
      "\n",
      "\n",
      "LeNet accuracy on 10000 images from test dataset: 25 %\n",
      "\n",
      "\n",
      "LeNet accuracy on 10000 images from test dataset: 28 %\n",
      "\n",
      "\n",
      "LeNet accuracy on 10000 images from test dataset: 29 %\n",
      "\n",
      "\n",
      "LeNet accuracy on 10000 images from test dataset: 30 %\n",
      "\n",
      "\n",
      "LeNet accuracy on 10000 images from test dataset: 31 %\n",
      "\n",
      "\n",
      "LeNet accuracy on 10000 images from test dataset: 32 %\n",
      "\n",
      "\n",
      "LeNet accuracy on 10000 images from test dataset: 33 %\n",
      "\n",
      "\n",
      "LeNet accuracy on 10000 images from test dataset: 34 %\n",
      "\n",
      "\n",
      "LeNet accuracy on 10000 images from test dataset: 36 %\n",
      "\n",
      "\n",
      "LeNet accuracy on 10000 images from test dataset: 37 %\n",
      "\n",
      "\n",
      "LeNet accuracy on 10000 images from test dataset: 38 %\n",
      "\n",
      "\n",
      "LeNet accuracy on 10000 images from test dataset: 39 %\n",
      "\n",
      "\n",
      "LeNet accuracy on 10000 images from test dataset: 40 %\n",
      "\n",
      "\n",
      "LeNet accuracy on 10000 images from test dataset: 40 %\n",
      "\n",
      "\n",
      "LeNet accuracy on 10000 images from test dataset: 41 %\n",
      "\n",
      "\n",
      "LeNet accuracy on 10000 images from test dataset: 42 %\n",
      "\n",
      "\n",
      "LeNet accuracy on 10000 images from test dataset: 42 %\n",
      "\n",
      "\n",
      "LeNet accuracy on 10000 images from test dataset: 42 %\n",
      "\n",
      "\n",
      "LeNet accuracy on 10000 images from test dataset: 42 %\n",
      "\n",
      "\n",
      "LeNet accuracy on 10000 images from test dataset: 43 %\n",
      "\n",
      "\n",
      "LeNet accuracy on 10000 images from test dataset: 43 %\n",
      "\n",
      "\n",
      "LeNet accuracy on 10000 images from test dataset: 43 %\n",
      "\n",
      "\n",
      "LeNet accuracy on 10000 images from test dataset: 44 %\n",
      "\n",
      "\n",
      "LeNet accuracy on 10000 images from test dataset: 44 %\n",
      "\n",
      "\n",
      "LeNet accuracy on 10000 images from test dataset: 44 %\n",
      "\n",
      "\n",
      "LeNet accuracy on 10000 images from test dataset: 45 %\n",
      "\n",
      "\n",
      "LeNet accuracy on 10000 images from test dataset: 45 %\n",
      "\n",
      "\n",
      "LeNet accuracy on 10000 images from test dataset: 45 %\n",
      "\n",
      "\n",
      "LeNet accuracy on 10000 images from test dataset: 45 %\n",
      "\n",
      "\n",
      "LeNet accuracy on 10000 images from test dataset: 46 %\n",
      "\n",
      "\n",
      "LeNet accuracy on 10000 images from test dataset: 46 %\n",
      "\n",
      "\n",
      "LeNet accuracy on 10000 images from test dataset: 46 %\n",
      "\n",
      "\n",
      "LeNet accuracy on 10000 images from test dataset: 46 %\n",
      "\n",
      "\n",
      "LeNet accuracy on 10000 images from test dataset: 46 %\n",
      "\n",
      "\n",
      "LeNet accuracy on 10000 images from test dataset: 47 %\n",
      "\n",
      "\n",
      "LeNet accuracy on 10000 images from test dataset: 47 %\n",
      "\n",
      "\n",
      "LeNet accuracy on 10000 images from test dataset: 47 %\n",
      "\n",
      "\n",
      "LeNet accuracy on 10000 images from test dataset: 47 %\n",
      "\n",
      "\n",
      "LeNet accuracy on 10000 images from test dataset: 47 %\n",
      "\n",
      "\n",
      "LeNet accuracy on 10000 images from test dataset: 47 %\n",
      "\n",
      "\n",
      "LeNet accuracy on 10000 images from test dataset: 47 %\n",
      "\n",
      "\n",
      "LeNet accuracy on 10000 images from test dataset: 48 %\n",
      "\n",
      "\n",
      "LeNet accuracy on 10000 images from test dataset: 48 %\n",
      "\n",
      "\n",
      "LeNet accuracy on 10000 images from test dataset: 48 %\n",
      "\n",
      "\n",
      "LeNet accuracy on 10000 images from test dataset: 48 %\n",
      "\n",
      "\n",
      "LeNet accuracy on 10000 images from test dataset: 48 %\n",
      "\n",
      "\n",
      "LeNet accuracy on 10000 images from test dataset: 49 %\n",
      "\n",
      "Finished Training\n"
     ]
    }
   ],
   "source": [
    "optim = torch.optim.Adam(lenet.parameters(), lr=0.001)\n",
    "\n",
    "for epoch in range(50):\n",
    "    train(lenet, trainloader, optim, epoch)\n",
    "    print()\n",
    "    test(lenet, testloader)\n",
    "    print()\n",
    "\n",
    "print('Finished Training')"
   ]
  },
  {
   "cell_type": "code",
   "execution_count": 15,
   "metadata": {},
   "outputs": [],
   "source": [
    "model_path = 'cifar_model.pth'\n",
    "torch.save(lenet.state_dict(),model_path)"
   ]
  },
  {
   "cell_type": "code",
   "execution_count": 18,
   "metadata": {},
   "outputs": [
    {
     "data": {
      "image/png": "[encoded data removed]",
      "text/plain": [
       "<Figure size 640x480 with 1 Axes>"
      ]
     },
     "metadata": {},
     "output_type": "display_data"
    },
    {
     "name": "stdout",
     "output_type": "stream",
     "text": [
      "Label:         cat  ship  ship plane\n",
      "Prediction:    cat  ship  ship  ship\n"
     ]
    }
   ],
   "source": [
    "# load test dataset images\n",
    "d_iter = iter(testloader)\n",
    "im, ground_truth = next(d_iter)\n",
    "\n",
    "# print images and ground truth\n",
    "imageshow(torchvision.utils.make_grid(im[:4]))\n",
    "print('Label:      ', ' '.join('%5s' % classes[ground_truth[j]] for j in range(4)))\n",
    "\n",
    "# load model\n",
    "lenet_cached = LeNet()\n",
    "lenet_cached.load_state_dict(torch.load(model_path))\n",
    "\n",
    "# model inference\n",
    "op = lenet_cached(im)\n",
    "\n",
    "# print predictions\n",
    "_, pred = torch.max(op, 1)\n",
    "\n",
    "print('Prediction: ', ' '.join('%5s' % classes[pred[j]] for j in range(4)))"
   ]
  },
  {
   "cell_type": "code",
   "execution_count": 19,
   "metadata": {},
   "outputs": [
    {
     "name": "stdout",
     "output_type": "stream",
     "text": [
      "Model accuracy on 10000 images from test dataset: 49 %\n"
     ]
    }
   ],
   "source": [
    "success = 0\n",
    "counter = 0\n",
    "with torch.no_grad():\n",
    "    for data in testloader:\n",
    "        im, ground_truth = data\n",
    "        op = lenet_cached(im)\n",
    "        _, pred = torch.max(op.data, 1)\n",
    "        counter += ground_truth.size(0)\n",
    "        success += (pred == ground_truth).sum().item()\n",
    "\n",
    "print('Model accuracy on 10000 images from test dataset: %d %%' % (\n",
    "    100 * success / counter))"
   ]
  },
  {
   "cell_type": "code",
   "execution_count": null,
   "metadata": {},
   "outputs": [],
   "source": []
  }
 ],
 "metadata": {
  "kernelspec": {
   "display_name": "Python 3",
   "language": "python",
   "name": "python3"
  },
  "language_info": {
   "codemirror_mode": {
    "name": "ipython",
    "version": 3
   },
   "file_extension": ".py",
   "mimetype": "text/x-python",
   "name": "python",
   "nbconvert_exporter": "python",
   "pygments_lexer": "ipython3",
   "version": "3.12.4"
  }
 },
 "nbformat": 4,
 "nbformat_minor": 2
}
